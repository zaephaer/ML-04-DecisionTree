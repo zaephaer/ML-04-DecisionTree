{
 "cells": [
  {
   "cell_type": "markdown",
   "metadata": {},
   "source": [
    "# Decision Tree"
   ]
  },
  {
   "cell_type": "markdown",
   "metadata": {},
   "source": [
    "Objective: Predicted Attribute: Localization site of protein. ( non-numeric ).   \n",
    "Dataset: yeast.data  \n",
    "Ref: NA"
   ]
  },
  {
   "cell_type": "code",
   "execution_count": 1,
   "metadata": {},
   "outputs": [
    {
     "name": "stdout",
     "output_type": "stream",
     "text": [
      "Dataset size (1484, 10)\n"
     ]
    },
    {
     "data": {
      "text/html": [
       "<div>\n",
       "<style scoped>\n",
       "    .dataframe tbody tr th:only-of-type {\n",
       "        vertical-align: middle;\n",
       "    }\n",
       "\n",
       "    .dataframe tbody tr th {\n",
       "        vertical-align: top;\n",
       "    }\n",
       "\n",
       "    .dataframe thead th {\n",
       "        text-align: right;\n",
       "    }\n",
       "</style>\n",
       "<table border=\"1\" class=\"dataframe\">\n",
       "  <thead>\n",
       "    <tr style=\"text-align: right;\">\n",
       "      <th></th>\n",
       "      <th>0</th>\n",
       "      <th>1</th>\n",
       "      <th>2</th>\n",
       "      <th>3</th>\n",
       "      <th>4</th>\n",
       "      <th>5</th>\n",
       "      <th>6</th>\n",
       "      <th>7</th>\n",
       "      <th>8</th>\n",
       "      <th>9</th>\n",
       "    </tr>\n",
       "  </thead>\n",
       "  <tbody>\n",
       "    <tr>\n",
       "      <th>0</th>\n",
       "      <td>ADT1_YEAST</td>\n",
       "      <td>0.58</td>\n",
       "      <td>0.61</td>\n",
       "      <td>0.47</td>\n",
       "      <td>0.13</td>\n",
       "      <td>0.5</td>\n",
       "      <td>0.0</td>\n",
       "      <td>0.48</td>\n",
       "      <td>0.22</td>\n",
       "      <td>MIT</td>\n",
       "    </tr>\n",
       "    <tr>\n",
       "      <th>1</th>\n",
       "      <td>ADT2_YEAST</td>\n",
       "      <td>0.43</td>\n",
       "      <td>0.67</td>\n",
       "      <td>0.48</td>\n",
       "      <td>0.27</td>\n",
       "      <td>0.5</td>\n",
       "      <td>0.0</td>\n",
       "      <td>0.53</td>\n",
       "      <td>0.22</td>\n",
       "      <td>MIT</td>\n",
       "    </tr>\n",
       "    <tr>\n",
       "      <th>2</th>\n",
       "      <td>ADT3_YEAST</td>\n",
       "      <td>0.64</td>\n",
       "      <td>0.62</td>\n",
       "      <td>0.49</td>\n",
       "      <td>0.15</td>\n",
       "      <td>0.5</td>\n",
       "      <td>0.0</td>\n",
       "      <td>0.53</td>\n",
       "      <td>0.22</td>\n",
       "      <td>MIT</td>\n",
       "    </tr>\n",
       "    <tr>\n",
       "      <th>3</th>\n",
       "      <td>AAR2_YEAST</td>\n",
       "      <td>0.58</td>\n",
       "      <td>0.44</td>\n",
       "      <td>0.57</td>\n",
       "      <td>0.13</td>\n",
       "      <td>0.5</td>\n",
       "      <td>0.0</td>\n",
       "      <td>0.54</td>\n",
       "      <td>0.22</td>\n",
       "      <td>NUC</td>\n",
       "    </tr>\n",
       "    <tr>\n",
       "      <th>4</th>\n",
       "      <td>AATM_YEAST</td>\n",
       "      <td>0.42</td>\n",
       "      <td>0.44</td>\n",
       "      <td>0.48</td>\n",
       "      <td>0.54</td>\n",
       "      <td>0.5</td>\n",
       "      <td>0.0</td>\n",
       "      <td>0.48</td>\n",
       "      <td>0.22</td>\n",
       "      <td>MIT</td>\n",
       "    </tr>\n",
       "  </tbody>\n",
       "</table>\n",
       "</div>"
      ],
      "text/plain": [
       "            0     1     2     3     4    5    6     7     8    9\n",
       "0  ADT1_YEAST  0.58  0.61  0.47  0.13  0.5  0.0  0.48  0.22  MIT\n",
       "1  ADT2_YEAST  0.43  0.67  0.48  0.27  0.5  0.0  0.53  0.22  MIT\n",
       "2  ADT3_YEAST  0.64  0.62  0.49  0.15  0.5  0.0  0.53  0.22  MIT\n",
       "3  AAR2_YEAST  0.58  0.44  0.57  0.13  0.5  0.0  0.54  0.22  NUC\n",
       "4  AATM_YEAST  0.42  0.44  0.48  0.54  0.5  0.0  0.48  0.22  MIT"
      ]
     },
     "execution_count": 1,
     "metadata": {},
     "output_type": "execute_result"
    }
   ],
   "source": [
    "import numpy as np\n",
    "import pandas as pd\n",
    "import matplotlib.pyplot as plt \n",
    "\n",
    "import seaborn as sns\n",
    "sns.set(style=\"white\")\n",
    "sns.set(style=\"whitegrid\", color_codes=True)\n",
    "\n",
    "from sklearn.tree import DecisionTreeClassifier\n",
    "\n",
    "data = pd.read_csv(\"yeast.data\", delim_whitespace=True, header=None)\n",
    "print('Dataset size', data.shape)\n",
    "data.head()"
   ]
  },
  {
   "cell_type": "code",
   "execution_count": 2,
   "metadata": {},
   "outputs": [
    {
     "data": {
      "text/html": [
       "<div>\n",
       "<style scoped>\n",
       "    .dataframe tbody tr th:only-of-type {\n",
       "        vertical-align: middle;\n",
       "    }\n",
       "\n",
       "    .dataframe tbody tr th {\n",
       "        vertical-align: top;\n",
       "    }\n",
       "\n",
       "    .dataframe thead th {\n",
       "        text-align: right;\n",
       "    }\n",
       "</style>\n",
       "<table border=\"1\" class=\"dataframe\">\n",
       "  <thead>\n",
       "    <tr style=\"text-align: right;\">\n",
       "      <th></th>\n",
       "      <th>seqName</th>\n",
       "      <th>mcG</th>\n",
       "      <th>gvh</th>\n",
       "      <th>alm</th>\n",
       "      <th>mit</th>\n",
       "      <th>mit2</th>\n",
       "      <th>erl</th>\n",
       "      <th>pox</th>\n",
       "      <th>vacScore</th>\n",
       "      <th>nucScore</th>\n",
       "    </tr>\n",
       "  </thead>\n",
       "  <tbody>\n",
       "    <tr>\n",
       "      <th>0</th>\n",
       "      <td>ADT1_YEAST</td>\n",
       "      <td>0.58</td>\n",
       "      <td>0.61</td>\n",
       "      <td>0.47</td>\n",
       "      <td>0.13</td>\n",
       "      <td>0.5</td>\n",
       "      <td>0.0</td>\n",
       "      <td>0.48</td>\n",
       "      <td>0.22</td>\n",
       "      <td>MIT</td>\n",
       "    </tr>\n",
       "    <tr>\n",
       "      <th>1</th>\n",
       "      <td>ADT2_YEAST</td>\n",
       "      <td>0.43</td>\n",
       "      <td>0.67</td>\n",
       "      <td>0.48</td>\n",
       "      <td>0.27</td>\n",
       "      <td>0.5</td>\n",
       "      <td>0.0</td>\n",
       "      <td>0.53</td>\n",
       "      <td>0.22</td>\n",
       "      <td>MIT</td>\n",
       "    </tr>\n",
       "    <tr>\n",
       "      <th>2</th>\n",
       "      <td>ADT3_YEAST</td>\n",
       "      <td>0.64</td>\n",
       "      <td>0.62</td>\n",
       "      <td>0.49</td>\n",
       "      <td>0.15</td>\n",
       "      <td>0.5</td>\n",
       "      <td>0.0</td>\n",
       "      <td>0.53</td>\n",
       "      <td>0.22</td>\n",
       "      <td>MIT</td>\n",
       "    </tr>\n",
       "    <tr>\n",
       "      <th>3</th>\n",
       "      <td>AAR2_YEAST</td>\n",
       "      <td>0.58</td>\n",
       "      <td>0.44</td>\n",
       "      <td>0.57</td>\n",
       "      <td>0.13</td>\n",
       "      <td>0.5</td>\n",
       "      <td>0.0</td>\n",
       "      <td>0.54</td>\n",
       "      <td>0.22</td>\n",
       "      <td>NUC</td>\n",
       "    </tr>\n",
       "    <tr>\n",
       "      <th>4</th>\n",
       "      <td>AATM_YEAST</td>\n",
       "      <td>0.42</td>\n",
       "      <td>0.44</td>\n",
       "      <td>0.48</td>\n",
       "      <td>0.54</td>\n",
       "      <td>0.5</td>\n",
       "      <td>0.0</td>\n",
       "      <td>0.48</td>\n",
       "      <td>0.22</td>\n",
       "      <td>MIT</td>\n",
       "    </tr>\n",
       "  </tbody>\n",
       "</table>\n",
       "</div>"
      ],
      "text/plain": [
       "      seqName   mcG   gvh   alm   mit  mit2  erl   pox  vacScore nucScore\n",
       "0  ADT1_YEAST  0.58  0.61  0.47  0.13   0.5  0.0  0.48      0.22      MIT\n",
       "1  ADT2_YEAST  0.43  0.67  0.48  0.27   0.5  0.0  0.53      0.22      MIT\n",
       "2  ADT3_YEAST  0.64  0.62  0.49  0.15   0.5  0.0  0.53      0.22      MIT\n",
       "3  AAR2_YEAST  0.58  0.44  0.57  0.13   0.5  0.0  0.54      0.22      NUC\n",
       "4  AATM_YEAST  0.42  0.44  0.48  0.54   0.5  0.0  0.48      0.22      MIT"
      ]
     },
     "execution_count": 2,
     "metadata": {},
     "output_type": "execute_result"
    }
   ],
   "source": [
    "data.columns = ['seqName','mcG','gvh','alm','mit','mit2','erl','pox','vacScore','nucScore']\n",
    "data.head()"
   ]
  },
  {
   "cell_type": "markdown",
   "metadata": {},
   "source": [
    "## Data Exploration"
   ]
  },
  {
   "cell_type": "code",
   "execution_count": 3,
   "metadata": {},
   "outputs": [
    {
     "name": "stdout",
     "output_type": "stream",
     "text": [
      "CYT    463\n",
      "NUC    429\n",
      "MIT    244\n",
      "ME3    163\n",
      "ME2     51\n",
      "ME1     44\n",
      "EXC     35\n",
      "VAC     30\n",
      "POX     20\n",
      "ERL      5\n",
      "Name: nucScore, dtype: int64\n"
     ]
    },
    {
     "data": {
      "image/png": "[encoded data removed]",
      "text/plain": [
       "<Figure size 432x288 with 1 Axes>"
      ]
     },
     "metadata": {
      "needs_background": "light"
     },
     "output_type": "display_data"
    }
   ],
   "source": [
    "print(data['nucScore'].value_counts())\n",
    "\n",
    "sns.countplot(x='nucScore',data = data, palette='hls',order = data['nucScore'].value_counts().index)\n",
    "sns.set(rc={'figure.figsize':(8,8)})\n",
    "plt.show()"
   ]
  },
  {
   "cell_type": "code",
   "execution_count": 4,
   "metadata": {},
   "outputs": [
    {
     "data": {
      "text/html": [
       "<div>\n",
       "<style scoped>\n",
       "    .dataframe tbody tr th:only-of-type {\n",
       "        vertical-align: middle;\n",
       "    }\n",
       "\n",
       "    .dataframe tbody tr th {\n",
       "        vertical-align: top;\n",
       "    }\n",
       "\n",
       "    .dataframe thead th {\n",
       "        text-align: right;\n",
       "    }\n",
       "</style>\n",
       "<table border=\"1\" class=\"dataframe\">\n",
       "  <thead>\n",
       "    <tr style=\"text-align: right;\">\n",
       "      <th></th>\n",
       "      <th>seqName</th>\n",
       "      <th>mcG</th>\n",
       "      <th>gvh</th>\n",
       "      <th>alm</th>\n",
       "      <th>mit</th>\n",
       "      <th>mit2</th>\n",
       "      <th>erl</th>\n",
       "      <th>pox</th>\n",
       "      <th>vacScore</th>\n",
       "      <th>nucScore</th>\n",
       "      <th>nucScoreCat</th>\n",
       "    </tr>\n",
       "  </thead>\n",
       "  <tbody>\n",
       "    <tr>\n",
       "      <th>0</th>\n",
       "      <td>ADT1_YEAST</td>\n",
       "      <td>0.58</td>\n",
       "      <td>0.61</td>\n",
       "      <td>0.47</td>\n",
       "      <td>0.13</td>\n",
       "      <td>0.5</td>\n",
       "      <td>0.0</td>\n",
       "      <td>0.48</td>\n",
       "      <td>0.22</td>\n",
       "      <td>MIT</td>\n",
       "      <td>6</td>\n",
       "    </tr>\n",
       "    <tr>\n",
       "      <th>1</th>\n",
       "      <td>ADT2_YEAST</td>\n",
       "      <td>0.43</td>\n",
       "      <td>0.67</td>\n",
       "      <td>0.48</td>\n",
       "      <td>0.27</td>\n",
       "      <td>0.5</td>\n",
       "      <td>0.0</td>\n",
       "      <td>0.53</td>\n",
       "      <td>0.22</td>\n",
       "      <td>MIT</td>\n",
       "      <td>6</td>\n",
       "    </tr>\n",
       "    <tr>\n",
       "      <th>2</th>\n",
       "      <td>ADT3_YEAST</td>\n",
       "      <td>0.64</td>\n",
       "      <td>0.62</td>\n",
       "      <td>0.49</td>\n",
       "      <td>0.15</td>\n",
       "      <td>0.5</td>\n",
       "      <td>0.0</td>\n",
       "      <td>0.53</td>\n",
       "      <td>0.22</td>\n",
       "      <td>MIT</td>\n",
       "      <td>6</td>\n",
       "    </tr>\n",
       "    <tr>\n",
       "      <th>3</th>\n",
       "      <td>AAR2_YEAST</td>\n",
       "      <td>0.58</td>\n",
       "      <td>0.44</td>\n",
       "      <td>0.57</td>\n",
       "      <td>0.13</td>\n",
       "      <td>0.5</td>\n",
       "      <td>0.0</td>\n",
       "      <td>0.54</td>\n",
       "      <td>0.22</td>\n",
       "      <td>NUC</td>\n",
       "      <td>7</td>\n",
       "    </tr>\n",
       "    <tr>\n",
       "      <th>4</th>\n",
       "      <td>AATM_YEAST</td>\n",
       "      <td>0.42</td>\n",
       "      <td>0.44</td>\n",
       "      <td>0.48</td>\n",
       "      <td>0.54</td>\n",
       "      <td>0.5</td>\n",
       "      <td>0.0</td>\n",
       "      <td>0.48</td>\n",
       "      <td>0.22</td>\n",
       "      <td>MIT</td>\n",
       "      <td>6</td>\n",
       "    </tr>\n",
       "  </tbody>\n",
       "</table>\n",
       "</div>"
      ],
      "text/plain": [
       "      seqName   mcG   gvh   alm   mit  mit2  erl   pox  vacScore nucScore  \\\n",
       "0  ADT1_YEAST  0.58  0.61  0.47  0.13   0.5  0.0  0.48      0.22      MIT   \n",
       "1  ADT2_YEAST  0.43  0.67  0.48  0.27   0.5  0.0  0.53      0.22      MIT   \n",
       "2  ADT3_YEAST  0.64  0.62  0.49  0.15   0.5  0.0  0.53      0.22      MIT   \n",
       "3  AAR2_YEAST  0.58  0.44  0.57  0.13   0.5  0.0  0.54      0.22      NUC   \n",
       "4  AATM_YEAST  0.42  0.44  0.48  0.54   0.5  0.0  0.48      0.22      MIT   \n",
       "\n",
       "   nucScoreCat  \n",
       "0            6  \n",
       "1            6  \n",
       "2            6  \n",
       "3            7  \n",
       "4            6  "
      ]
     },
     "execution_count": 4,
     "metadata": {},
     "output_type": "execute_result"
    }
   ],
   "source": [
    "data[\"nucScore\"] = data[\"nucScore\"].astype('category')\n",
    "data[\"nucScoreCat\"] = data[\"nucScore\"].cat.codes\n",
    "data.head()"
   ]
  },
  {
   "cell_type": "code",
   "execution_count": 5,
   "metadata": {},
   "outputs": [
    {
     "name": "stdout",
     "output_type": "stream",
     "text": [
      "0    463\n",
      "7    429\n",
      "6    244\n",
      "5    163\n",
      "4     51\n",
      "3     44\n",
      "2     35\n",
      "9     30\n",
      "8     20\n",
      "1      5\n",
      "Name: nucScoreCat, dtype: int64\n"
     ]
    },
    {
     "data": {
      "image/png": "[encoded data removed]",
      "text/plain": [
       "<Figure size 576x576 with 1 Axes>"
      ]
     },
     "metadata": {},
     "output_type": "display_data"
    }
   ],
   "source": [
    "print(data['nucScoreCat'].value_counts())\n",
    "\n",
    "sns.countplot(x='nucScoreCat',data = data, palette='hls',order = data['nucScoreCat'].value_counts().index)\n",
    "sns.set(rc={'figure.figsize':(8,8)})\n",
    "plt.show()"
   ]
  },
  {
   "cell_type": "markdown",
   "metadata": {},
   "source": [
    "## Correlation"
   ]
  },
  {
   "cell_type": "code",
   "execution_count": 6,
   "metadata": {},
   "outputs": [
    {
     "data": {
      "image/png": "[encoded data removed]",
      "text/plain": [
       "<Figure size 1152x864 with 2 Axes>"
      ]
     },
     "metadata": {},
     "output_type": "display_data"
    }
   ],
   "source": [
    "plt.figure(figsize=(16,12))\n",
    "sns.heatmap(data=data.corr(),annot=True,fmt='.2f',cmap='coolwarm')\n",
    "plt.show()"
   ]
  },
  {
   "cell_type": "code",
   "execution_count": 7,
   "metadata": {},
   "outputs": [
    {
     "data": {
      "text/plain": [
       "nucScoreCat    1.000000\n",
       "vacScore       0.178026\n",
       "mit            0.109051\n",
       "erl            0.102067\n",
       "pox            0.007111\n",
       "gvh           -0.020542\n",
       "mit2          -0.052257\n",
       "mcG           -0.082527\n",
       "alm           -0.102315\n",
       "Name: nucScoreCat, dtype: float64"
      ]
     },
     "execution_count": 7,
     "metadata": {},
     "output_type": "execute_result"
    }
   ],
   "source": [
    "corr_rank = data.corr()\n",
    "corr_rank[\"nucScoreCat\"].sort_values(ascending=False)"
   ]
  },
  {
   "cell_type": "markdown",
   "metadata": {},
   "source": [
    "## Data Processing and Selection"
   ]
  },
  {
   "cell_type": "code",
   "execution_count": 8,
   "metadata": {},
   "outputs": [
    {
     "name": "stdout",
     "output_type": "stream",
     "text": [
      "Feature Dataset (1484, 8)\n"
     ]
    },
    {
     "data": {
      "text/plain": [
       "array([[0.22, 0.13, 0.  , 0.48, 0.61, 0.5 , 0.58, 0.47],\n",
       "       [0.22, 0.27, 0.  , 0.53, 0.67, 0.5 , 0.43, 0.48]])"
      ]
     },
     "execution_count": 8,
     "metadata": {},
     "output_type": "execute_result"
    }
   ],
   "source": [
    "X = data[['vacScore','mit','erl','pox','gvh','mit2','mcG','alm']].values\n",
    "print('Feature Dataset', X.shape)\n",
    "X[0:2]"
   ]
  },
  {
   "cell_type": "code",
   "execution_count": 9,
   "metadata": {},
   "outputs": [
    {
     "name": "stdout",
     "output_type": "stream",
     "text": [
      "Target Dataset (1484,)\n"
     ]
    },
    {
     "data": {
      "text/plain": [
       "0    6\n",
       "1    6\n",
       "2    6\n",
       "3    7\n",
       "4    6\n",
       "Name: nucScoreCat, dtype: int8"
      ]
     },
     "execution_count": 9,
     "metadata": {},
     "output_type": "execute_result"
    }
   ],
   "source": [
    "y = data[\"nucScoreCat\"]\n",
    "print('Target Dataset', y.shape)\n",
    "y[0:5]"
   ]
  },
  {
   "cell_type": "markdown",
   "metadata": {},
   "source": [
    "## Split Train Test"
   ]
  },
  {
   "cell_type": "code",
   "execution_count": 10,
   "metadata": {},
   "outputs": [
    {
     "name": "stdout",
     "output_type": "stream",
     "text": [
      "X TRAIN Set:  (1038, 8) (1038,)\n",
      "X TEST Set :  (446, 8) (446,)\n"
     ]
    }
   ],
   "source": [
    "from sklearn.model_selection import train_test_split\n",
    "X_trainset, X_testset, y_trainset, y_testset = train_test_split(X,y,test_size=0.3,random_state=3)\n",
    "\n",
    "print(\"X TRAIN Set: \", X_trainset.shape, y_trainset.shape)\n",
    "print(\"X TEST Set : \", X_testset.shape, y_testset.shape)"
   ]
  },
  {
   "cell_type": "markdown",
   "metadata": {},
   "source": [
    "## Decision Tree"
   ]
  },
  {
   "cell_type": "code",
   "execution_count": 11,
   "metadata": {},
   "outputs": [
    {
     "name": "stdout",
     "output_type": "stream",
     "text": [
      "(446,)\n"
     ]
    },
    {
     "data": {
      "text/plain": [
       "array([0, 5, 7, 0, 5, 0, 0, 6, 7, 7, 0, 0, 6, 0, 5, 6, 6, 7, 5, 7, 7, 7,\n",
       "       7, 0, 5, 3, 6, 0, 7, 5, 0, 0, 4, 5, 7, 6, 0, 0, 5, 5, 7, 7, 7, 4,\n",
       "       6, 0, 6, 6, 4, 0, 0, 7, 6, 5, 0, 2, 0, 5, 0, 7, 6, 0, 5, 7, 7, 6,\n",
       "       0, 3, 0, 7, 7, 5, 0, 5, 0, 0, 7, 0, 0, 6, 7, 6, 7, 7, 4, 7, 3, 5,\n",
       "       0, 5, 7, 6, 4, 5, 6, 6, 0, 2, 7, 6, 7, 6, 7, 7, 0, 7, 0, 0, 0, 0,\n",
       "       0, 0, 7, 6, 7, 0, 0, 0, 7, 7, 0, 6, 0, 0, 0, 7, 5, 7, 6, 7, 0, 0,\n",
       "       5, 6, 0, 4, 6, 7, 6, 7, 0, 2, 3, 7, 0, 0, 7, 6, 0, 7, 0, 7, 5, 7,\n",
       "       6, 0, 6, 6, 0, 7, 0, 0, 6, 0, 0, 0, 0, 5, 7, 7, 7, 3, 7, 5, 7, 0,\n",
       "       7, 0, 0, 0, 5, 6, 0, 4, 0, 7, 7, 4, 7, 0, 0, 6, 7, 6, 7, 7, 6, 3,\n",
       "       0, 0, 0, 3, 7, 7, 7, 5, 0, 7, 7, 5, 0, 0, 5, 0, 0, 7, 0, 7, 0, 7,\n",
       "       7, 5, 5, 4, 0, 4, 7, 5, 5, 5, 6, 6, 6, 7, 0, 0, 5, 0, 0, 0, 7, 0,\n",
       "       7, 0, 0, 0, 2, 6, 0, 0, 0, 7, 7, 7, 7, 5, 5, 0, 5, 7, 5, 0, 0, 4,\n",
       "       5, 0, 6, 6, 0, 7, 7, 7, 0, 0, 7, 4, 0, 7, 4, 0, 5, 0, 0, 7, 7, 0,\n",
       "       0, 5, 7, 6, 7, 7, 0, 0, 7, 0, 7, 7, 0, 7, 3, 4, 0, 4, 0, 6, 6, 7,\n",
       "       7, 7, 5, 0, 0, 0, 3, 4, 6, 0, 4, 5, 0, 7, 7, 0, 5, 7, 0, 0, 0, 5,\n",
       "       7, 4, 0, 7, 4, 0, 6, 0, 2, 7, 0, 0, 5, 0, 6, 6, 0, 0, 6, 6, 5, 0,\n",
       "       2, 0, 7, 5, 5, 7, 0, 5, 0, 7, 7, 4, 7, 7, 7, 6, 0, 7, 7, 5, 6, 2,\n",
       "       5, 6, 0, 7, 5, 0, 0, 5, 7, 7, 7, 7, 7, 0, 6, 7, 5, 7, 6, 7, 7, 6,\n",
       "       0, 7, 5, 0, 7, 7, 0, 7, 0, 0, 7, 6, 0, 0, 7, 6, 7, 7, 5, 6, 7, 3,\n",
       "       7, 2, 7, 6, 7, 5, 7, 7, 7, 7, 7, 7, 0, 0, 0, 6, 0, 7, 7, 6, 5, 6,\n",
       "       6, 0, 6, 0, 0, 6], dtype=int8)"
      ]
     },
     "execution_count": 11,
     "metadata": {},
     "output_type": "execute_result"
    }
   ],
   "source": [
    "#specify criterion='entropy' see information gain of each node (using gini given same result)\n",
    "DTree = DecisionTreeClassifier(criterion=\"entropy\", max_depth = 4)\n",
    "\n",
    "#fit with data\n",
    "DTree.fit(X_trainset, y_trainset)\n",
    "\n",
    "#making prediction and store in predTree\n",
    "predTree = DTree.predict(X_testset)\n",
    "print(predTree.shape)\n",
    "predTree"
   ]
  },
  {
   "cell_type": "code",
   "execution_count": 12,
   "metadata": {},
   "outputs": [
    {
     "name": "stdout",
     "output_type": "stream",
     "text": [
      "Decision Tree's Accuracy:  0.59193\n",
      "Accuracy score 2        :  0.59193\n"
     ]
    }
   ],
   "source": [
    "#calculate model accuracy\n",
    "from sklearn import metrics\n",
    "print(\"Decision Tree's Accuracy: \", round(metrics.accuracy_score(y_testset, predTree),5))\n",
    "print(\"Accuracy score 2        : \", round(DTree.score(X_testset, y_testset),5))"
   ]
  }
 ],
 "metadata": {
  "kernelspec": {
   "display_name": "Python 3",
   "language": "python",
   "name": "python3"
  },
  "language_info": {
   "codemirror_mode": {
    "name": "ipython",
    "version": 3
   },
   "file_extension": ".py",
   "mimetype": "text/x-python",
   "name": "python",
   "nbconvert_exporter": "python",
   "pygments_lexer": "ipython3",
   "version": "3.7.1"
  }
 },
 "nbformat": 4,
 "nbformat_minor": 2
}
